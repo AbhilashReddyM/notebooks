{
 "cells": [
  {
   "cell_type": "markdown",
   "metadata": {},
   "source": [
    "# 2 Random 2 Sampling\n",
    "\n",
    "This is a follow-up to my [previous Jupyter notebook on random sampling](https://abhila.sh/writing/5/Random_Sampling.html) where I covered generating uniformly random points on various domains."
   ]
  },
  {
   "cell_type": "markdown",
   "metadata": {},
   "source": []
  }
 ],
 "metadata": {
  "language_info": {
   "name": "python"
  },
  "orig_nbformat": 4
 },
 "nbformat": 4,
 "nbformat_minor": 2
}
